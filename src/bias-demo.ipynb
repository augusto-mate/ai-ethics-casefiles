{
 "cells": [
  {
   "cell_type": "code",
   "execution_count": null,
   "id": "b83ae93f",
   "metadata": {},
   "outputs": [],
   "source": [
    "# 🧪 Bias Demonstration: Resume Screening\n",
    "# This notebook simulates a basic bias scenario often seen in AI-driven hiring systems.\n",
    "# Goal: Show how biased data can influence classification decisions.\n",
    "\n",
    "# Imports\n",
    "import pandas as pd\n",
    "from sklearn.linear_model import LogisticRegression\n",
    "from sklearn.model_selection import train_test_split\n",
    "from sklearn.metrics import classification_report\n",
    "import seaborn as sns\n",
    "import matplotlib.pyplot as plt\n",
    "\n",
    "# 1. Create a small biased dataset\n",
    "# This toy dataset assumes gender-coded resumes (0 = male, 1 = female),\n",
    "# with historical hiring outcomes biased toward males.\n",
    "data = pd.DataFrame({\n",
    "    'years_experience': [1, 3, 5, 7, 2, 4, 6, 8],\n",
    "    'gender': [0, 0, 0, 0, 1, 1, 1, 1],  # 0 = male, 1 = female\n",
    "    'hired':   [0, 1, 1, 1, 0, 0, 0, 1]  # biased toward males\n",
    "})\n",
    "data\n",
    "\n",
    "# 2. Train a logistic regression model\n",
    "# We'll train on this biased data and observe how predictions reflect historical unfairness.\n",
    "X = data[['years_experience', 'gender']]\n",
    "y = data['hired']\n",
    "X_train, X_test, y_train, y_test = train_test_split(X, y, random_state=42)\n",
    "\n",
    "model = LogisticRegression()\n",
    "model.fit(X_train, y_train)\n",
    "\n",
    "y_pred = model.predict(X_test)\n",
    "print(classification_report(y_test, y_pred, zero_division=0))\n",
    "\n",
    "# 3. Visualize prediction bias\n",
    "# We compare predicted hiring probabilities by gender.\n",
    "data['predicted_proba'] = model.predict_proba(X)[:, 1]\n",
    "sns.boxplot(data=data, x='gender', y='predicted_proba')\n",
    "plt.xticks([0,1], ['Male', 'Female'])\n",
    "plt.title('Predicted Hiring Probability by Gender')\n",
    "plt.show()\n",
    "\n",
    "# 🔍 Observation\n",
    "# Even with similar experience levels, the model trained on biased data assigns lower hiring probabilities \n",
    "# to female candidates.\n",
    "#\n",
    "# Note: This is a minimal toy example for demonstration purposes.\n",
    "# Real-world datasets are larger and may reveal more pronounced bias effects.\n"
   ]
  }
 ],
 "metadata": {
  "kernelspec": {
   "display_name": "Python 3",
   "language": "python",
   "name": "python3"
  },
  "language_info": {
   "codemirror_mode": {
    "name": "ipython",
    "version": 3
   },
   "file_extension": ".py",
   "mimetype": "text/x-python",
   "name": "python",
   "nbconvert_exporter": "python",
   "pygments_lexer": "ipython3",
   "version": "3.13.5"
  }
 },
 "nbformat": 4,
 "nbformat_minor": 5
}
